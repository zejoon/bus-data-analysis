{
 "cells": [
  {
   "cell_type": "code",
   "execution_count": null,
   "metadata": {},
   "outputs": [],
   "source": [
    "# read csv file\n",
    "import pandas as pd\n",
    "import numpy as np\n",
    "import matplotlib.pyplot as plt\n",
    "import seaborn as sns\n",
    "%matplotlib inline\n",
    "df = pd.read_csv('C:/Users/HP/Desktop/Python/Python for Data Science and Machine Learning Bootcamp/Refactored_Py_DS_ML_Bootcamp-master/11-Linear-Regression/USA_Housing.csv')\n",
    "df.head()\n",
    "df.info()\n",
    "df.describe()\n",
    "sns.pairplot(df)\n",
    "sns.distplot(df['Price'])\n",
    "sns.heatmap(df.corr(),annot=True)\n",
    "# split data into train and test\n",
    "from sklearn.model_selection import train_test_split\n",
    "X = df[['Avg. Area Income', 'Avg. Area House Age', 'Avg. Area Number of Rooms',\n",
    "         'Avg. Area Number of Bedrooms', 'Area Population']]\n",
    "y = df['Price']\n",
    "X_train, X_test, y_train, y_test = train_test_split(X, y, test_size=0.4, random_state=101)\n",
    "# train model\n",
    "from sklearn.linear_model import LinearRegression\n",
    "lm = LinearRegression()\n",
    "lm.fit(X_train,y_train)\n",
    "# print intercept\n",
    "print(lm.intercept_)\n",
    "# print coefficients\n",
    "coeff_df = pd.DataFrame(lm.coef_,X.columns,columns=['Coefficient'])\n",
    "coeff_df\n",
    "# predict test data\n",
    "predictions = lm.predict(X_test)\n",
    "plt.scatter(y_test,predictions)\n",
    "# evaluate model\n",
    "from sklearn import metrics\n",
    "print('MAE:', metrics.mean_absolute_error(y_test, predictions))\n",
    "print('MSE:', metrics.mean_squared_error(y_test, predictions))\n",
    "print('RMSE:', np.sqrt(metrics.mean_squared_error(y_test, predictions)))\n",
    "# residual histogram\n",
    "sns.distplot((y_test-predictions),bins=50);\n",
    "# predict new data\n",
    "new_data = [[50000, 5, 5, 5, 50000]]\n",
    "new_data = pd.DataFrame(new_data, columns=['Avg. Area Income', 'Avg. Area House Age', 'Avg. Area Number of Rooms',\n",
    "\n",
    "'Avg. Area Number of Bedrooms', 'Area Population'])\n",
    "new_data\n",
    "lm.predict(new_data)\n",
    "\n"
   ]
  }
 ],
 "metadata": {
  "kernelspec": {
   "display_name": "base",
   "language": "python",
   "name": "python3"
  },
  "language_info": {
   "name": "python",
   "version": "3.8.8 (default, Apr 13 2021, 12:59:45) \n[Clang 10.0.0 ]"
  },
  "orig_nbformat": 4,
  "vscode": {
   "interpreter": {
    "hash": "1f3526e817d2b2ec6aa5d850dd2ced5daee961ac32dfdefdca1bddc377e1964c"
   }
  }
 },
 "nbformat": 4,
 "nbformat_minor": 2
}
